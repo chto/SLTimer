{
 "cells": [
  {
   "cell_type": "markdown",
   "metadata": {},
   "source": [
    "# PyCS Tutorial\n",
    "\n",
    "In this notebook we work through the `PyCS` \"demo1\" tutorial, to show how the `PyCS` package enables the estimation of a lens time delay from example light curve data. The original tutorial is in the form of a set of 6 scripts, that can be viewed on the `PyCS` website [here](http://pycs.readthedocs.io/en/latest/tutorial/demo1.html). The demo1 code itself can be browsed in the `PyCS` GitHub repository [here](https://github.com/COSMOGRAIL/PyCS/tree/master/demo/demo1)."
   ]
  },
  {
   "cell_type": "markdown",
   "metadata": {},
   "source": [
    "## 1. Obtaining PyCS and its Sample Data \n",
    "\n",
    "The \"demo1\" tutorial uses a 4-image light curve dataset that comes with the `PyCS` repository. Let's download this and use `PyCS` to analyze it. If you haven't yet followed the [`SLTimer` installation instructions](https://github.com/DarkEnergyScienceCollaboration/SLTimer/blob/master/INSTALL.md) you should do that before attempting to `import pycs`. "
   ]
  },
  {
   "cell_type": "code",
   "execution_count": null,
   "metadata": {
    "collapsed": true
   },
   "outputs": [],
   "source": [
    "import os, urllib\n",
    "from __future__ import print_function\n",
    "import pycs\n",
    "import numpy as np\n",
    "import corner\n",
    "from matplotlib import pyplot as plt\n",
    "%matplotlib inline"
   ]
  },
  {
   "cell_type": "markdown",
   "metadata": {},
   "source": [
    "We need to grab `rdbfile` (the demo1 dataset) from `webdir` (the appropriate `PyCS` GitHub folder). We only need to download `rdbfile` if it doesn't already exist."
   ]
  },
  {
   "cell_type": "code",
   "execution_count": null,
   "metadata": {
    "collapsed": false
   },
   "outputs": [],
   "source": [
    "webdir = 'https://raw.githubusercontent.com/COSMOGRAIL/PyCS/master/demo/demo1/data/'\n",
    "rdbfile = 'trialcurves.txt'\n",
    "    \n",
    "url = os.path.join(webdir, rdbfile)\n",
    "if not os.path.isfile(rdbfile):\n",
    "    urllib.urlretrieve(url, rdbfile)\n",
    "    \n",
    "!wc -l $rdbfile"
   ]
  },
  {
   "cell_type": "markdown",
   "metadata": {},
   "source": [
    "## 2. Displaying the Light Curve Data"
   ]
  },
  {
   "cell_type": "markdown",
   "metadata": {},
   "source": [
    "First lets read in the data from the rdbfile, in this case from a simple text file with a one-line header. (Other formats are supported as well.)"
   ]
  },
  {
   "cell_type": "code",
   "execution_count": null,
   "metadata": {
    "collapsed": false
   },
   "outputs": [],
   "source": [
    "lcs = [\n",
    "        pycs.gen.lc.rdbimport(rdbfile, 'A', 'mag_A', 'magerr_A', \"Trial\"),\n",
    "        pycs.gen.lc.rdbimport(rdbfile, 'B', 'mag_B', 'magerr_B', \"Trial\"),\n",
    "        pycs.gen.lc.rdbimport(rdbfile, 'C', 'mag_C', 'magerr_C', \"Trial\"),\n",
    "        pycs.gen.lc.rdbimport(rdbfile, 'D', 'mag_D', 'magerr_D', \"Trial\")\n",
    "]"
   ]
  },
  {
   "cell_type": "code",
   "execution_count": null,
   "metadata": {
    "collapsed": true
   },
   "outputs": [],
   "source": [
    "pycs.gen.mrg.colourise(lcs) "
   ]
  },
  {
   "cell_type": "code",
   "execution_count": null,
   "metadata": {
    "collapsed": false,
    "scrolled": true
   },
   "outputs": [],
   "source": [
    "pycs.gen.lc.display(lcs)"
   ]
  },
  {
   "cell_type": "code",
   "execution_count": null,
   "metadata": {
    "collapsed": false
   },
   "outputs": [],
   "source": [
    " def spl(lcs):\n",
    "    spline = pycs.spl.topopt.opt_rough(lcs, nit=5, knotstep=50,verbose=False)\n",
    "    spline = pycs.spl.topopt.opt_rough(lcs, nit=5, knotstep=30,verbose=False)\n",
    "    spline = pycs.spl.topopt.opt_fine(lcs, nit=10, knotstep=20,verbose=False)\n",
    "    return spline"
   ]
  },
  {
   "cell_type": "code",
   "execution_count": null,
   "metadata": {
    "collapsed": false
   },
   "outputs": [],
   "source": [
    "for l in lcs:\n",
    "    pycs.gen.splml.addtolc(l,knotstep=150)"
   ]
  },
  {
   "cell_type": "markdown",
   "metadata": {},
   "source": [
    "Let's re-optimize and see what happens to the time delays:"
   ]
  },
  {
   "cell_type": "code",
   "execution_count": null,
   "metadata": {
    "collapsed": false
   },
   "outputs": [],
   "source": [
    "spline = spl(lcs)"
   ]
  },
  {
   "cell_type": "code",
   "execution_count": null,
   "metadata": {
    "collapsed": false,
    "scrolled": true
   },
   "outputs": [],
   "source": [
    "spline_microlensing_time_delays = pycs.gen.lc.getnicetimedelays(lcs, separator=\"\\n\", sorted=True)\n",
    "print(\"Time Delays (microlensing included, with splines):\")\n",
    "print(spline_microlensing_time_delays)"
   ]
  },
  {
   "cell_type": "code",
   "execution_count": null,
   "metadata": {
    "collapsed": false
   },
   "outputs": [],
   "source": [
    "pycs.gen.lc.display(lcs, [spline], knotsize=0.01, figsize=(20, 7), jdrange=(53900, 55500))"
   ]
  },
  {
   "cell_type": "code",
   "execution_count": null,
   "metadata": {
    "collapsed": false
   },
   "outputs": [],
   "source": [
    "ndim, nsamples = 3, 10\n",
    "sample=np.random.rand(ndim*nsamples).reshape(nsamples,ndim)*200-100"
   ]
  },
  {
   "cell_type": "code",
   "execution_count": null,
   "metadata": {
    "collapsed": false
   },
   "outputs": [],
   "source": [
    "%time\n",
    "fig=corner.corner(sample,labels=[r'$\\Delta t_{AB}$',r'$\\Delta t_{AC}$',r'$\\Delta t_{AD}$'],\n",
    "                  levels=[0.30,0.40],plot_contours=False,plot_density=False)"
   ]
  },
  {
   "cell_type": "code",
   "execution_count": null,
   "metadata": {
    "collapsed": false
   },
   "outputs": [],
   "source": [
    "def getWeight(delay):\n",
    "    for l in lcs:\n",
    "        l.resetshifts()\n",
    "        l.resetml()\n",
    "    for index, l in enumerate(lcs):\n",
    "        pycs.gen.splml.addtolc(l,knotstep=150)\n",
    "        if index!=0:\n",
    "            l.timeshift=delay[index-1]\n",
    "    spline = spl(lcs)\n",
    "    return np.exp(-0.5*spline.lastr2nostab)"
   ]
  },
  {
   "cell_type": "code",
   "execution_count": null,
   "metadata": {
    "collapsed": false
   },
   "outputs": [],
   "source": [
    "%%time\n",
    "from multiprocessing import Pool\n",
    "p = Pool(processes=3)\n",
    "result=np.array(p.map(getWeight,sample))"
   ]
  },
  {
   "cell_type": "code",
   "execution_count": null,
   "metadata": {
    "collapsed": false
   },
   "outputs": [],
   "source": [
    "%%time\n",
    "weight=[]\n",
    "for delay in sample:\n",
    "    weight.append(getWeight(delay))"
   ]
  },
  {
   "cell_type": "code",
   "execution_count": null,
   "metadata": {
    "collapsed": false
   },
   "outputs": [],
   "source": [
    "fig=corner.corner(sample,labels=[r'$\\Delta t_{AB}$',r'$\\Delta t_{AC}$',r'$\\Delta t_{AD}$'],\n",
    "                  levels=[0.9,0.95],plot_contours=False,plot_density=False,weight=result)"
   ]
  }
 ],
 "metadata": {
  "kernelspec": {
   "display_name": "Python 2",
   "language": "python",
   "name": "python2"
  },
  "language_info": {
   "codemirror_mode": {
    "name": "ipython",
    "version": 2
   },
   "file_extension": ".py",
   "mimetype": "text/x-python",
   "name": "python",
   "nbconvert_exporter": "python",
   "pygments_lexer": "ipython2",
   "version": "2.7.10"
  }
 },
 "nbformat": 4,
 "nbformat_minor": 0
}
